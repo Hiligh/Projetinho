{
 "cells": [
  {
   "cell_type": "code",
   "execution_count": 2,
   "id": "bfed30f3",
   "metadata": {},
   "outputs": [],
   "source": [
    "import tkinter as tk\n",
    "import sqlite3\n",
    "import pandas as pd"
   ]
  },
  {
   "cell_type": "code",
   "execution_count": 2,
   "id": "38592df8",
   "metadata": {},
   "outputs": [],
   "source": [
    "#Criando o banco de dados\n",
    "conexao = sqlite3.connect(\"Banco_Perguntas.db\")\n",
    "\n",
    "cursor = conexao.cursor()\n",
    "\n",
    "cursor.execute ('''CREATE TABLE perguntas(nome text,renda integer,veiculo text,filho text)''')\n",
    "\n",
    "conexao.commit()\n",
    "\n",
    "conexao.close()"
   ]
  },
  {
   "cell_type": "code",
   "execution_count": 3,
   "id": "0bf0adae",
   "metadata": {},
   "outputs": [
    {
     "name": "stdout",
     "output_type": "stream",
     "text": [
      "['Acacio Figueiredo', 'Alto Branco', 'Araxa', 'Bela Vista', 'Bodocongo', 'Castelo Branco', 'Catole', 'Centenario', 'Centro', 'Cidades', 'Conceicao', 'Cruzeiro', 'Cuites', 'Dinamerica', 'Distrito Industrial', 'Estacao Velha', 'Jardim Continental', 'Jardim Paulistano', 'Jardim Quarenta', 'Jeremias', 'José Pinheiro', 'Liberdade', 'Louzeiro', 'Malvinas', 'Monte Catelo', 'Monte Santo', 'Nova Brasilia', 'Novo Bodocongo', 'Palmeira Imperial', 'Pedregal', 'Prata', 'Presidente Medici', 'Quarenta', 'Ramadinha', 'Sandra Cavalcante', 'Santa Cruz', 'Santa Rosa', 'Santo Antônio', 'Sao Jose', 'Serrotao', 'Tambor', 'Tres Irmas', 'Universitario', 'Velame', 'Vila Cabral']\n",
      "['Araxa', 'Cidades', 'Jardim Continental', 'Novo Bodocongo', 'Pedregal']\n"
     ]
    }
   ],
   "source": [
    "dados = pd.read_excel(r'Dados/Dados.xlsx')\n",
    "def filtro_renda(renda):\n",
    "    lista = []\n",
    "    for i in range(52-1):\n",
    "        renda_min = dados.iloc[i,2]\n",
    "        if renda_min <= renda:\n",
    "            lista.append(dados.iloc[i,0])\n",
    "    return print(lista)\n",
    "def avancar():\n",
    "\n",
    "\n",
    "\n",
    "    conexao = sqlite3.connect(\"Banco_Perguntas.db\")\n",
    "    \n",
    "    cursor = conexao.cursor()\n",
    "    \n",
    "    cursor.execute(\"INSERT INTO perguntas VALUES (:nome, :renda, :veiculo, :filho)\",{'nome':entry_nome.get(),'renda':entry_renda.get(),'veiculo':entry_veiculo.get(),'filho':entry_filho.get()})\n",
    "    \n",
    "    cursor.execute (\"SELECT *,oid FROM perguntas\")\n",
    "    dados_clientes = cursor.fetchall()\n",
    "    dados_clientes = pd.DataFrame(dados_clientes, columns = ['nome', 'renda', 'veiculo', 'filho','id'])\n",
    "    dados_clientes.to_excel('dados_clientes.xlsx')\n",
    "\n",
    "    conexao.commit()\n",
    "    conexao.close()\n",
    "\n",
    "    filtro_renda(int(entry_renda.get()))\n",
    "    entry_nome.delete(0,\"end\")\n",
    "    entry_renda.delete(0,\"end\")\n",
    "    entry_veiculo.delete(0,\"end\")\n",
    "    entry_filho.delete(0,\"end\")\n",
    "\n",
    "\n",
    "\n",
    "    \n",
    "\n",
    "\n",
    "#Interface Gráfica\n",
    "janela = tk.Tk()\n",
    "janela.title('Questionário')\n",
    "\n",
    "#Label = insrir nome na interface gráfica\n",
    "label_nome = tk.Label(janela, text='Digite seu nome: ')\n",
    "label_nome.grid(row=0, column=0, padx=10, pady=10)\n",
    "\n",
    "label_renda = tk.Label(janela, text='Digite sua renda: ')\n",
    "label_renda.grid(row=1, column=0, padx=10, pady=10)\n",
    "\n",
    "label_veiculo = tk.Label(janela, text='Você possui veiculo(Sim ou Não): ')\n",
    "label_veiculo.grid(row=2, column=0, padx=10, pady=10)\n",
    "\n",
    "label_filho = tk.Label(janela, text='Você tem filho(Sim ou Não): ')\n",
    "label_filho.grid(row=3, column=0, padx=10, pady=10)\n",
    "\n",
    "#entry = inserir caixa na interface\n",
    "\n",
    "entry_nome = tk.Entry(janela, text='Digite seu nome: ',width=30)\n",
    "entry_nome.grid(row=0, column=1, padx=10, pady=10)\n",
    "\n",
    "entry_renda = tk.Entry(janela, text='Digite sua renda: ',width=30)\n",
    "entry_renda.grid(row=1, column=1, padx=10, pady=10)\n",
    "\n",
    "entry_veiculo = tk.Entry(janela, text='Você possui veiculo(Sim ou Não): ',width=30)\n",
    "entry_veiculo.grid(row=2, column=1, padx=10, pady=10)\n",
    "\n",
    "entry_filho = tk.Entry(janela, text='Você tem filho(Sim ou Não): ',width=30)\n",
    "entry_filho.grid(row=3, column=1, padx=10, pady=10)\n",
    "\n",
    "#botões\n",
    "\n",
    "botao_cadastrar = tk.Button(janela, text='Avançar', command = avancar )\n",
    "botao_cadastrar.grid(row=4, column=0, padx=10, pady=10, columnspan=2)\n",
    "\n",
    "janela.mainloop()"
   ]
  }
 ],
 "metadata": {
  "kernelspec": {
   "display_name": "Python 3 (ipykernel)",
   "language": "python",
   "name": "python3"
  },
  "language_info": {
   "codemirror_mode": {
    "name": "ipython",
    "version": 3
   },
   "file_extension": ".py",
   "mimetype": "text/x-python",
   "name": "python",
   "nbconvert_exporter": "python",
   "pygments_lexer": "ipython3",
   "version": "3.9.7"
  }
 },
 "nbformat": 4,
 "nbformat_minor": 5
}
